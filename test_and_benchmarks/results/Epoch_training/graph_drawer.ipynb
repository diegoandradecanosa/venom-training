{
 "cells": [
  {
   "cell_type": "code",
   "execution_count": 202,
   "metadata": {},
   "outputs": [],
   "source": [
    "import matplotlib.pyplot as plt\n",
    "import pandas as pd\n",
    "import numpy as np"
   ]
  },
  {
   "cell_type": "markdown",
   "metadata": {},
   "source": [
    "Load data"
   ]
  },
  {
   "cell_type": "code",
   "execution_count": null,
   "metadata": {},
   "outputs": [],
   "source": [
    "data = pd.read_csv(\"./deucalion_times.csv\")# deucalion data\n",
    "figname='deucalion.pdf'\n",
    "\n",
    "#data = pd.read_csv(\"./Finisterrae_times.csv\")# Finisterrae 3 data\n",
    "#figname='finisterrae.pdf'\n",
    "\n",
    "\n",
    "# Set to True to split the times into transpose/reshape and kernel time in the graphs\n",
    "split_times=False"
   ]
  },
  {
   "cell_type": "code",
   "execution_count": 204,
   "metadata": {},
   "outputs": [
    {
     "name": "stdout",
     "output_type": "stream",
     "text": [
      "Detected 2 entries for dense times, setting amount of gpus to that number\n"
     ]
    },
    {
     "name": "stderr",
     "output_type": "stream",
     "text": [
      "/tmp/ipykernel_49630/1972363324.py:29: FutureWarning: When grouping with a length-1 list-like, you will need to pass a length-1 tuple to get_group in a future version of pandas. Pass `(name,)` instead of `name` to silence this warning.\n",
      "  gpus = dense_grouped.get_group(list(dense_grouped.groups.keys())[0]).shape[0]\n"
     ]
    }
   ],
   "source": [
    "# Get the three series, dense, venom and venom with no transposition\n",
    "if \"mean\" in data.columns:\n",
    "    #Data from deucalion file using time_it repeat\n",
    "    time_column = \"mean\"\n",
    "    gpus = 4\n",
    "elif \"total_milliseconds\" in data.columns:\n",
    "    # Data from manual timekeeping to keeps track of time used in transpose/reshape \n",
    "    gpus = 2\n",
    "    time_column = \"total_milliseconds\"\n",
    "    # Generate transpose and reshape times from the csv data\n",
    "    # Create a new column with the value of the milliseconds_excluding_transpose column subtracted from the second to total_milliseconds column\n",
    "    data['transpose_time'] = data['total_milliseconds'] - data['milliseconds_excluding_transpose']\n",
    "    # Handle missing values for the 'milliseconds_excluding_transpose' column\n",
    "    data['transpose_time'] = data['transpose_time'].fillna(data['total_milliseconds'])\n",
    "\n",
    "\n",
    "# Convert to seconds for smaller numbers\n",
    "data[time_column] = data[time_column] / 1000\n",
    "if \"total_milliseconds\" in data.columns:\n",
    "    data['milliseconds_excluding_transpose'] = data['milliseconds_excluding_transpose'] / 1000\n",
    "    data['transpose_time'] = data['transpose_time'] / 1000\n",
    "\n",
    "\n",
    "\n",
    "\n",
    "dense_grouped = data[data['name'] == 'dense'].groupby(['bs'])\n",
    "# Autodetect amount of gpus or entries for each configuration.\n",
    "# Count the number of rows in the first group\n",
    "gpus = dense_grouped.get_group(list(dense_grouped.groups.keys())[0]).shape[0]\n",
    "print('Detected', gpus, 'entries for dense times, setting amount of gpus to that number')\n",
    "\n",
    "dense = data[data['name'] == 'dense'].groupby(['bs'])[time_column].mean().reset_index(name=\"step_time_mean\")\n",
    "\n",
    "# Comment if branch to not split bars into kernel and transpose/reshape times\n",
    "if 'transpose_time' in data and split_times:\n",
    "    # Use time with no tranpose as main time and then stack transpose time on top.\n",
    "    venom_kernel_time = data[data['name'] == 'venom'].groupby(['bs'])['milliseconds_excluding_transpose'].mean().reset_index(name=\"step_time_mean\")\n",
    "    venom_transpose_time = data[data['name'] == 'venom'].groupby(['bs'])['transpose_time'].mean().reset_index(name=\"transpose_time_mean\")\n",
    "\n",
    "    venom_no_transpose_kernel_time = data[data['name'] == 'venom_no_transpose'].groupby(['bs'])['milliseconds_excluding_transpose'].mean().reset_index(name=\"step_time_mean\")\n",
    "    venom_no_transpose_reshape = data[data['name'] == 'venom_no_transpose'].groupby(['bs'])['transpose_time'].mean().reset_index(name=\"reshape_time_mean\")\n",
    "    \n",
    "else: # Stop commenting here to not split bars into kernel and transpose/reshape times, leave else branch.\n",
    "    venom_kernel_time = data[data['name'] == 'venom'].groupby(['bs'])[time_column].mean().reset_index(name=\"step_time_mean\")\n",
    "    venom_no_transpose_kernel_time = data[data['name'] == 'venom_no_transpose'].groupby(['bs'])[time_column].mean().reset_index(name=\"step_time_mean\")\n",
    "\n",
    "batch_sizes = data['bs'].sort_values( ascending=True).unique()\n",
    "\n",
    "#print('batch sizes:', batch_sizes)\n",
    "#print('Dense times:', dense)\n",
    "#print('VENOM times:\\n', venom)\n",
    "#print('VENOM no transpose times:\\n', venom_no_transpose)\n",
    "\n",
    "\n",
    "# Create a DataFrame\n",
    "# df = pd.DataFrame({\n",
    "#     'bs': batch_sizes,\n",
    "#     'Dense': dense['step_time_mean'],\n",
    "#     'VENOM': venom_kernel_time['step_time_mean'],\n",
    "#     'VENOM w/o transpose': venom_no_transpose_kernel_time['step_time_mean'],\n",
    "#     'VENOM SDDMM transpose time': venom_transpose_time['transpose_time_mean'] if split_times else [],\n",
    "#     'VENOM SDDMM reshape time': venom_no_transpose_reshape['reshape_time_mean'] if split_times else []\n",
    "#}).set_index('bs')\n",
    "\n",
    "\n"
   ]
  },
  {
   "cell_type": "code",
   "execution_count": 205,
   "metadata": {},
   "outputs": [
    {
     "data": {
      "image/png": "[encoded data removed]",
      "text/plain": [
       "<Figure size 640x480 with 1 Axes>"
      ]
     },
     "metadata": {},
     "output_type": "display_data"
    }
   ],
   "source": [
    "# Draw graph.\n",
    "width = 0.2  # the width of the bars\n",
    "\n",
    "\n",
    "fig, ax = plt.subplots()\n",
    "\n",
    "#ax = df.plot(kind='bar', rot=0, figsize=(20, 6))\n",
    "\n",
    "ticks_location = np.arange(len(batch_sizes))  # the label locations\n",
    "\n",
    "# Plotting dense times\n",
    "dense = ax.bar(ticks_location - width, dense['step_time_mean'], width, label='Dense')\n",
    "\n",
    "# Plotting venom with transpose stacked\n",
    "venom_kernels = ax.bar(ticks_location, venom_kernel_time['step_time_mean'], width, label='VENOM kernel time' if split_times else 'VENOM' )\n",
    "if split_times:\n",
    "    venom_transpose_time = ax.bar(ticks_location, venom_transpose_time['transpose_time_mean'], width, venom_kernel_time['step_time_mean'], label='VENOM SDDMM transpose time')\n",
    "\n",
    "# Plotting the fourth and fifth series stacked\n",
    "venom_no_transpose_kernels = ax.bar(ticks_location + width, venom_no_transpose_kernel_time['step_time_mean'], width, label='VENOM w/o transpose kernel time' if split_times else 'VENOM w/o transpose')\n",
    "if split_times:\n",
    "    venom_no_transpose_reshape_time = ax.bar(ticks_location + width, venom_no_transpose_reshape['reshape_time_mean'], width, bottom=venom_no_transpose_kernel_time['step_time_mean'], label='VENOM SDDMM reshape time')\n",
    "\n",
    "\n",
    "#ax.plot(dense, batch_sizes, color='r', label='Dense kernels')\n",
    "#dense_bars = ax.bar(tick_location, dense['step_time_mean'], label='Dense kernels')\n",
    "#dense_bars = ax.bar(tick_location, venom['step_time_mean'], label='VENOM kernels')\n",
    "#dense_bars = ax.bar(tick_location, venom_no_transpose['step_time_mean'], label='VENOM w/o Transpose kernels')\n",
    "#ax.plot(venom, batch_sizes, color='g', label='VENOM kernels')\n",
    "#ax.plot(venom_no_transpose, batch_sizes, color='b', label='VENOM kernels w/o transpose')\n",
    "\n",
    "\n",
    "\n",
    "# Decorate graph\n",
    "ax.set_ylabel('Time(s)')\n",
    "ax.set_xlabel('Batch Size')\n",
    "ax.set_title('Average epoch time of the '+str(gpus)+' GPUs')\n",
    "ax.set_xticks(ticks_location)\n",
    "ax.set_xticklabels(batch_sizes)\n",
    "ax.legend(loc='upper right')\n",
    "plt.savefig(figname, bbox_inches='tight')"
   ]
  }
 ],
 "metadata": {
  "kernelspec": {
   "display_name": "Python 3",
   "language": "python",
   "name": "python3"
  },
  "language_info": {
   "codemirror_mode": {
    "name": "ipython",
    "version": 3
   },
   "file_extension": ".py",
   "mimetype": "text/x-python",
   "name": "python",
   "nbconvert_exporter": "python",
   "pygments_lexer": "ipython3",
   "version": "3.10.12"
  }
 },
 "nbformat": 4,
 "nbformat_minor": 2
}
